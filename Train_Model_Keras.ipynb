{
 "cells": [
  {
   "cell_type": "code",
   "execution_count": 1,
   "id": "dc95a2ea",
   "metadata": {
    "_cell_guid": "b1076dfc-b9ad-4769-8c92-a6c4dae69d19",
    "_uuid": "8f2839f25d086af736a60e9eeb907d3b93b6e0e5",
    "execution": {
     "iopub.execute_input": "2024-01-23T13:08:25.896758Z",
     "iopub.status.busy": "2024-01-23T13:08:25.896314Z",
     "iopub.status.idle": "2024-01-23T13:08:28.600883Z",
     "shell.execute_reply": "2024-01-23T13:08:28.599673Z"
    },
    "papermill": {
     "duration": 2.715355,
     "end_time": "2024-01-23T13:08:28.603966",
     "exception": false,
     "start_time": "2024-01-23T13:08:25.888611",
     "status": "completed"
    },
    "tags": []
   },
   "outputs": [],
   "source": [
    "import os\n",
    "import json\n",
    "import numpy as np\n",
    "import pandas as pd\n",
    "from pprint import pprint\n",
    "from itertools import combinations, product\n",
    "\n",
    "#sklearn\n",
    "from sklearn.manifold import TSNE\n",
    "from sklearn.decomposition import PCA\n",
    "from sklearn.preprocessing import LabelEncoder\n",
    "from sklearn.model_selection import train_test_split\n",
    "from sklearn.preprocessing import StandardScaler, RobustScaler, QuantileTransformer, MinMaxScaler\n",
    "from sklearn.metrics import precision_recall_curve, auc, roc_curve, recall_score, precision_score, f1_score\n",
    "\n",
    "#graph\n",
    "import seaborn as sns\n",
    "import matplotlib.pyplot as plt"
   ]
  },
  {
   "cell_type": "code",
   "execution_count": 2,
   "id": "bec48ae5",
   "metadata": {
    "execution": {
     "iopub.execute_input": "2024-01-23T13:08:28.616861Z",
     "iopub.status.busy": "2024-01-23T13:08:28.616029Z",
     "iopub.status.idle": "2024-01-23T13:09:02.763563Z",
     "shell.execute_reply": "2024-01-23T13:09:02.762054Z"
    },
    "papermill": {
     "duration": 34.157176,
     "end_time": "2024-01-23T13:09:02.766570",
     "exception": false,
     "start_time": "2024-01-23T13:08:28.609394",
     "status": "completed"
    },
    "tags": []
   },
   "outputs": [],
   "source": [
    "dataset_csv_path = '/kaggle/input/cicids2017/MachineLearningCSV/MachineLearningCVE/'\n",
    "csv_file_names = ['Friday-WorkingHours-Afternoon-PortScan.pcap_ISCX.csv', \n",
    "                  'Friday-WorkingHours-Afternoon-DDos.pcap_ISCX.csv', \n",
    "                  'Friday-WorkingHours-Morning.pcap_ISCX.csv', \n",
    "                  'Monday-WorkingHours.pcap_ISCX.csv', \n",
    "                  'Thursday-WorkingHours-Afternoon-Infilteration.pcap_ISCX.csv', \n",
    "                  'Thursday-WorkingHours-Morning-WebAttacks.pcap_ISCX.csv', \n",
    "                  'Tuesday-WorkingHours.pcap_ISCX.csv', \n",
    "                  'Wednesday-workingHours.pcap_ISCX.csv']\n",
    "\n",
    "complete_paths = []\n",
    "for csv_file_name in csv_file_names:\n",
    "    complete_paths.append(os.path.join(dataset_csv_path, csv_file_name))\n",
    "\n",
    "df = pd.concat(map(pd.read_csv, complete_paths), \n",
    "               ignore_index = True)"
   ]
  },
  {
   "cell_type": "code",
   "execution_count": 3,
   "id": "568b3dce",
   "metadata": {
    "execution": {
     "iopub.execute_input": "2024-01-23T13:09:02.778864Z",
     "iopub.status.busy": "2024-01-23T13:09:02.778415Z",
     "iopub.status.idle": "2024-01-23T13:09:48.090182Z",
     "shell.execute_reply": "2024-01-23T13:09:48.088579Z"
    },
    "papermill": {
     "duration": 45.321477,
     "end_time": "2024-01-23T13:09:48.093315",
     "exception": false,
     "start_time": "2024-01-23T13:09:02.771838",
     "status": "completed"
    },
    "tags": []
   },
   "outputs": [
    {
     "name": "stdout",
     "output_type": "stream",
     "text": [
      "dataset shape (2830743, 79)\n",
      "zero variance columns ['Bwd PSH Flags', 'Bwd URG Flags', 'Fwd Avg Bytes/Bulk', 'Fwd Avg Packets/Bulk', 'Fwd Avg Bulk Rate', 'Bwd Avg Bytes/Bulk', 'Bwd Avg Packets/Bulk', 'Bwd Avg Bulk Rate'] dropped\n",
      "shape after removing zero variance columns: (2830743, 71)\n",
      "2867 rows dropped\n",
      "shape after removing nan: (2827876, 71)\n",
      "shape after dropping duplicates: (2520798, 71)\n",
      "columns which have identical values [('Total Fwd Packets', 'Subflow Fwd Packets'), ('Total Backward Packets', 'Subflow Bwd Packets'), ('Fwd PSH Flags', 'SYN Flag Count'), ('Fwd URG Flags', 'CWE Flag Count'), ('Fwd Header Length', 'Fwd Header Length.1')] dropped\n",
      "shape after removing identical value columns: (2520798, 66)\n"
     ]
    }
   ],
   "source": [
    "def clean_df(df):\n",
    "    # Remove the space before each feature names\n",
    "    df.columns = df.columns.str.strip()\n",
    "    print('dataset shape', df.shape)\n",
    "\n",
    "    # This set of feature should have >= 0 values\n",
    "    num = df._get_numeric_data()\n",
    "    num[num < 0] = 0\n",
    "\n",
    "    zero_variance_cols = []\n",
    "    for col in df.columns:\n",
    "        if len(df[col].unique()) == 1:\n",
    "            zero_variance_cols.append(col)\n",
    "    df.drop(zero_variance_cols, axis = 1, inplace = True)\n",
    "    print('zero variance columns', zero_variance_cols, 'dropped')\n",
    "    print('shape after removing zero variance columns:', df.shape)\n",
    "\n",
    "    df.replace([np.inf, -np.inf], np.nan, inplace = True)\n",
    "    print(df.isna().any(axis = 1).sum(), 'rows dropped')\n",
    "    df.dropna(inplace = True)\n",
    "    print('shape after removing nan:', df.shape)\n",
    "\n",
    "    # Drop duplicate rows\n",
    "    df.drop_duplicates(inplace = True)\n",
    "    print('shape after dropping duplicates:', df.shape)\n",
    "\n",
    "    column_pairs = [(i, j) for i, j in combinations(df, 2) if df[i].equals(df[j])]\n",
    "    ide_cols = []\n",
    "    for column_pair in column_pairs:\n",
    "        ide_cols.append(column_pair[1])\n",
    "    df.drop(ide_cols, axis = 1, inplace = True)\n",
    "    print('columns which have identical values', column_pairs, 'dropped')\n",
    "    print('shape after removing identical value columns:', df.shape)\n",
    "    return df\n",
    "df = clean_df(df)"
   ]
  },
  {
   "cell_type": "code",
   "execution_count": 4,
   "id": "0e7fd4b9",
   "metadata": {
    "execution": {
     "iopub.execute_input": "2024-01-23T13:09:48.106817Z",
     "iopub.status.busy": "2024-01-23T13:09:48.106264Z",
     "iopub.status.idle": "2024-01-23T13:09:48.316264Z",
     "shell.execute_reply": "2024-01-23T13:09:48.314841Z"
    },
    "papermill": {
     "duration": 0.219475,
     "end_time": "2024-01-23T13:09:48.318665",
     "exception": false,
     "start_time": "2024-01-23T13:09:48.099190",
     "status": "completed"
    },
    "tags": []
   },
   "outputs": [
    {
     "data": {
      "text/plain": [
       "Label\n",
       "BENIGN                        2095057\n",
       "DoS Hulk                       172846\n",
       "DDoS                           128014\n",
       "PortScan                        90694\n",
       "DoS GoldenEye                   10286\n",
       "FTP-Patator                      5931\n",
       "DoS slowloris                    5385\n",
       "DoS Slowhttptest                 5228\n",
       "SSH-Patator                      3219\n",
       "Bot                              1948\n",
       "Web Attack � Brute Force         1470\n",
       "Web Attack � XSS                  652\n",
       "Infiltration                       36\n",
       "Web Attack � Sql Injection         21\n",
       "Heartbleed                         11\n",
       "Name: count, dtype: int64"
      ]
     },
     "execution_count": 4,
     "metadata": {},
     "output_type": "execute_result"
    }
   ],
   "source": [
    "df['Label'].value_counts()"
   ]
  },
  {
   "cell_type": "code",
   "execution_count": 5,
   "id": "3ef4075f",
   "metadata": {
    "execution": {
     "iopub.execute_input": "2024-01-23T13:09:48.332138Z",
     "iopub.status.busy": "2024-01-23T13:09:48.331701Z",
     "iopub.status.idle": "2024-01-23T13:10:29.308613Z",
     "shell.execute_reply": "2024-01-23T13:10:29.307190Z"
    },
    "papermill": {
     "duration": 40.987818,
     "end_time": "2024-01-23T13:10:29.312059",
     "exception": false,
     "start_time": "2024-01-23T13:09:48.324241",
     "status": "completed"
    },
    "tags": []
   },
   "outputs": [],
   "source": [
    "dataset_csv_path = '/kaggle/input/improved-cicids2017-and-csecicids2018/CICIDS2017_improved'\n",
    "csv_file_names = ['monday.csv', \n",
    "                  'tuesday.csv', \n",
    "                  'wednesday.csv', \n",
    "                  'thursday.csv', \n",
    "                  'friday.csv']\n",
    "\n",
    "complete_paths = []\n",
    "for csv_file_name in csv_file_names:\n",
    "    complete_paths.append(os.path.join(dataset_csv_path, csv_file_name))\n",
    "\n",
    "improved_df = pd.concat(map(pd.read_csv, complete_paths), \n",
    "                        ignore_index = True)"
   ]
  },
  {
   "cell_type": "code",
   "execution_count": 6,
   "id": "e942d89a",
   "metadata": {
    "execution": {
     "iopub.execute_input": "2024-01-23T13:10:29.325838Z",
     "iopub.status.busy": "2024-01-23T13:10:29.325345Z",
     "iopub.status.idle": "2024-01-23T13:11:20.139268Z",
     "shell.execute_reply": "2024-01-23T13:11:20.138274Z"
    },
    "papermill": {
     "duration": 50.824466,
     "end_time": "2024-01-23T13:11:20.142429",
     "exception": false,
     "start_time": "2024-01-23T13:10:29.317963",
     "status": "completed"
    },
    "tags": []
   },
   "outputs": [
    {
     "name": "stdout",
     "output_type": "stream",
     "text": [
      "dataset shape (2099976, 91)\n",
      "zero variance columns [] dropped\n",
      "shape after removing zero variance columns: (2099976, 91)\n",
      "5 rows dropped\n",
      "shape after removing nan: (2099971, 91)\n",
      "shape after dropping duplicates: (2099971, 91)\n",
      "columns which have identical values [] dropped\n",
      "shape after removing identical value columns: (2099971, 91)\n"
     ]
    },
    {
     "data": {
      "text/plain": [
       "Label\n",
       "BENIGN                                    1582561\n",
       "Portscan                                   159066\n",
       "DoS Hulk                                   158468\n",
       "DDoS                                        95144\n",
       "Infiltration - Portscan                     71767\n",
       "DoS GoldenEye                                7567\n",
       "Botnet - Attempted                           4067\n",
       "FTP-Patator                                  3972\n",
       "DoS Slowloris                                3859\n",
       "DoS Slowhttptest - Attempted                 3368\n",
       "SSH-Patator                                  2961\n",
       "DoS Slowloris - Attempted                    1847\n",
       "DoS Slowhttptest                             1740\n",
       "Web Attack - Brute Force - Attempted         1292\n",
       "Botnet                                        736\n",
       "Web Attack - XSS - Attempted                  655\n",
       "DoS Hulk - Attempted                          581\n",
       "DoS GoldenEye - Attempted                      80\n",
       "Web Attack - Brute Force                       73\n",
       "Infiltration - Attempted                       45\n",
       "Infiltration                                   36\n",
       "SSH-Patator - Attempted                        27\n",
       "Web Attack - XSS                               18\n",
       "Web Attack - SQL Injection                     13\n",
       "FTP-Patator - Attempted                        12\n",
       "Heartbleed                                     11\n",
       "Web Attack - SQL Injection - Attempted          5\n",
       "Name: count, dtype: int64"
      ]
     },
     "execution_count": 6,
     "metadata": {},
     "output_type": "execute_result"
    }
   ],
   "source": [
    "dropping_cols = ['id', 'Flow ID', 'Src IP', 'Src Port', 'Dst IP', \n",
    "                 'Dst Port', 'Timestamp']\n",
    "improved_df = clean_df(improved_df)\n",
    "improved_df.drop(dropping_cols, axis = 1, inplace = True)\n",
    "improved_df['Label'].value_counts()"
   ]
  },
  {
   "cell_type": "code",
   "execution_count": 7,
   "id": "4ed8e561",
   "metadata": {
    "execution": {
     "iopub.execute_input": "2024-01-23T13:11:20.157837Z",
     "iopub.status.busy": "2024-01-23T13:11:20.156521Z",
     "iopub.status.idle": "2024-01-23T13:11:20.334704Z",
     "shell.execute_reply": "2024-01-23T13:11:20.333389Z"
    },
    "papermill": {
     "duration": 0.188587,
     "end_time": "2024-01-23T13:11:20.337416",
     "exception": false,
     "start_time": "2024-01-23T13:11:20.148829",
     "status": "completed"
    },
    "tags": []
   },
   "outputs": [
    {
     "data": {
      "text/plain": [
       "Label\n",
       "BENIGN                                    1582561\n",
       "Portscan                                   159066\n",
       "DoS Hulk                                   158468\n",
       "DDoS                                        95144\n",
       "Infiltration - Portscan                     71767\n",
       "DoS GoldenEye                                7567\n",
       "Botnet - Attempted                           4067\n",
       "FTP-Patator                                  3972\n",
       "DoS Slowloris                                3859\n",
       "DoS Slowhttptest - Attempted                 3368\n",
       "SSH-Patator                                  2961\n",
       "DoS Slowloris - Attempted                    1847\n",
       "DoS Slowhttptest                             1740\n",
       "Web Attack - Brute Force - Attempted         1292\n",
       "Botnet                                        736\n",
       "Web Attack - XSS - Attempted                  655\n",
       "DoS Hulk - Attempted                          581\n",
       "DoS GoldenEye - Attempted                      80\n",
       "Web Attack - Brute Force                       73\n",
       "Infiltration - Attempted                       45\n",
       "Infiltration                                   36\n",
       "SSH-Patator - Attempted                        27\n",
       "Web Attack - XSS                               18\n",
       "Web Attack - SQL Injection                     13\n",
       "FTP-Patator - Attempted                        12\n",
       "Heartbleed                                     11\n",
       "Web Attack - SQL Injection - Attempted          5\n",
       "Name: count, dtype: int64"
      ]
     },
     "execution_count": 7,
     "metadata": {},
     "output_type": "execute_result"
    }
   ],
   "source": [
    "improved_df['Label'].value_counts()"
   ]
  },
  {
   "cell_type": "code",
   "execution_count": 8,
   "id": "8151578b",
   "metadata": {
    "execution": {
     "iopub.execute_input": "2024-01-23T13:11:20.353133Z",
     "iopub.status.busy": "2024-01-23T13:11:20.352098Z",
     "iopub.status.idle": "2024-01-23T13:11:20.382743Z",
     "shell.execute_reply": "2024-01-23T13:11:20.381455Z"
    },
    "papermill": {
     "duration": 0.041449,
     "end_time": "2024-01-23T13:11:20.385462",
     "exception": false,
     "start_time": "2024-01-23T13:11:20.344013",
     "status": "completed"
    },
    "tags": []
   },
   "outputs": [
    {
     "data": {
      "text/plain": [
       "Attempted Category\n",
       "0    2092837\n",
       "1       4067\n",
       "6       2804\n",
       "5        138\n",
       "4         75\n",
       "3         27\n",
       "2         23\n",
       "Name: count, dtype: int64"
      ]
     },
     "execution_count": 8,
     "metadata": {},
     "output_type": "execute_result"
    }
   ],
   "source": [
    "improved_df['Attempted Category'].value_counts()"
   ]
  },
  {
   "cell_type": "code",
   "execution_count": 9,
   "id": "c6a53e58",
   "metadata": {
    "execution": {
     "iopub.execute_input": "2024-01-23T13:11:20.401587Z",
     "iopub.status.busy": "2024-01-23T13:11:20.401092Z",
     "iopub.status.idle": "2024-01-23T13:11:22.378305Z",
     "shell.execute_reply": "2024-01-23T13:11:22.376874Z"
    },
    "papermill": {
     "duration": 1.987849,
     "end_time": "2024-01-23T13:11:22.381041",
     "exception": false,
     "start_time": "2024-01-23T13:11:20.393192",
     "status": "completed"
    },
    "tags": []
   },
   "outputs": [
    {
     "data": {
      "text/plain": [
       "Label\n",
       "BENIGN                        1594540\n",
       "Portscan                       159066\n",
       "DoS Hulk                       158468\n",
       "DDoS                            95144\n",
       "Infiltration - Portscan         71767\n",
       "DoS GoldenEye                    7567\n",
       "FTP-Patator                      3972\n",
       "DoS Slowloris                    3859\n",
       "SSH-Patator                      2961\n",
       "DoS Slowhttptest                 1740\n",
       "Botnet                            736\n",
       "Web Attack - Brute Force           73\n",
       "Infiltration                       36\n",
       "Web Attack - XSS                   18\n",
       "Web Attack - SQL Injection         13\n",
       "Heartbleed                         11\n",
       "Name: count, dtype: int64"
      ]
     },
     "execution_count": 9,
     "metadata": {},
     "output_type": "execute_result"
    }
   ],
   "source": [
    "attepmted_labels = [s for s in improved_df['Label'].unique() if 'Attempted' in s]\n",
    "\n",
    "improved_df.drop(['Attempted Category'], axis = 1, inplace = True)\n",
    "\n",
    "improved_df.replace(attepmted_labels, 'BENIGN', inplace = True)\n",
    "improved_df['Label'].value_counts()"
   ]
  },
  {
   "cell_type": "code",
   "execution_count": 10,
   "id": "ed2ab16f",
   "metadata": {
    "execution": {
     "iopub.execute_input": "2024-01-23T13:11:22.396693Z",
     "iopub.status.busy": "2024-01-23T13:11:22.396016Z",
     "iopub.status.idle": "2024-01-23T13:11:22.404684Z",
     "shell.execute_reply": "2024-01-23T13:11:22.403354Z"
    },
    "papermill": {
     "duration": 0.019595,
     "end_time": "2024-01-23T13:11:22.407449",
     "exception": false,
     "start_time": "2024-01-23T13:11:22.387854",
     "status": "completed"
    },
    "tags": []
   },
   "outputs": [
    {
     "data": {
      "text/plain": [
       "Index(['Protocol', 'Flow Duration', 'Total Fwd Packet', 'Total Bwd packets',\n",
       "       'Total Length of Fwd Packet', 'Total Length of Bwd Packet',\n",
       "       'Fwd Packet Length Max', 'Fwd Packet Length Min',\n",
       "       'Fwd Packet Length Mean', 'Fwd Packet Length Std',\n",
       "       'Bwd Packet Length Max', 'Bwd Packet Length Min',\n",
       "       'Bwd Packet Length Mean', 'Bwd Packet Length Std', 'Flow Bytes/s',\n",
       "       'Flow Packets/s', 'Flow IAT Mean', 'Flow IAT Std', 'Flow IAT Max',\n",
       "       'Flow IAT Min', 'Fwd IAT Total', 'Fwd IAT Mean', 'Fwd IAT Std',\n",
       "       'Fwd IAT Max', 'Fwd IAT Min', 'Bwd IAT Total', 'Bwd IAT Mean',\n",
       "       'Bwd IAT Std', 'Bwd IAT Max', 'Bwd IAT Min', 'Fwd PSH Flags',\n",
       "       'Bwd PSH Flags', 'Fwd URG Flags', 'Bwd URG Flags', 'Fwd RST Flags',\n",
       "       'Bwd RST Flags', 'Fwd Header Length', 'Bwd Header Length',\n",
       "       'Fwd Packets/s', 'Bwd Packets/s', 'Packet Length Min',\n",
       "       'Packet Length Max', 'Packet Length Mean', 'Packet Length Std',\n",
       "       'Packet Length Variance', 'FIN Flag Count', 'SYN Flag Count',\n",
       "       'RST Flag Count', 'PSH Flag Count', 'ACK Flag Count', 'URG Flag Count',\n",
       "       'CWR Flag Count', 'ECE Flag Count', 'Down/Up Ratio',\n",
       "       'Average Packet Size', 'Fwd Segment Size Avg', 'Bwd Segment Size Avg',\n",
       "       'Fwd Bytes/Bulk Avg', 'Fwd Packet/Bulk Avg', 'Fwd Bulk Rate Avg',\n",
       "       'Bwd Bytes/Bulk Avg', 'Bwd Packet/Bulk Avg', 'Bwd Bulk Rate Avg',\n",
       "       'Subflow Fwd Packets', 'Subflow Fwd Bytes', 'Subflow Bwd Packets',\n",
       "       'Subflow Bwd Bytes', 'FWD Init Win Bytes', 'Bwd Init Win Bytes',\n",
       "       'Fwd Act Data Pkts', 'Fwd Seg Size Min', 'Active Mean', 'Active Std',\n",
       "       'Active Max', 'Active Min', 'Idle Mean', 'Idle Std', 'Idle Max',\n",
       "       'Idle Min', 'ICMP Code', 'ICMP Type', 'Total TCP Flow Time', 'Label'],\n",
       "      dtype='object')"
      ]
     },
     "execution_count": 10,
     "metadata": {},
     "output_type": "execute_result"
    }
   ],
   "source": [
    "improved_df.columns"
   ]
  },
  {
   "cell_type": "code",
   "execution_count": 11,
   "id": "3cec2c73",
   "metadata": {
    "execution": {
     "iopub.execute_input": "2024-01-23T13:11:22.424157Z",
     "iopub.status.busy": "2024-01-23T13:11:22.423534Z",
     "iopub.status.idle": "2024-01-23T13:11:23.233620Z",
     "shell.execute_reply": "2024-01-23T13:11:23.232432Z"
    },
    "papermill": {
     "duration": 0.822052,
     "end_time": "2024-01-23T13:11:23.236317",
     "exception": false,
     "start_time": "2024-01-23T13:11:22.414265",
     "status": "completed"
    },
    "tags": []
   },
   "outputs": [
    {
     "data": {
      "text/plain": [
       "Index(['Protocol', 'Flow Duration', 'Total Fwd Packet', 'Total Bwd packets',\n",
       "       'Total Length of Fwd Packet', 'Total Length of Bwd Packet',\n",
       "       'Fwd Packet Length Max', 'Fwd Packet Length Min',\n",
       "       'Fwd Packet Length Mean', 'Fwd Packet Length Std',\n",
       "       'Bwd Packet Length Max', 'Bwd Packet Length Min',\n",
       "       'Bwd Packet Length Mean', 'Bwd Packet Length Std', 'Flow Bytes/s',\n",
       "       'Flow Packets/s', 'Flow IAT Mean', 'Flow IAT Std', 'Flow IAT Max',\n",
       "       'Flow IAT Min', 'Fwd IAT Total', 'Fwd IAT Mean', 'Fwd IAT Std',\n",
       "       'Fwd IAT Max', 'Fwd IAT Min', 'Bwd IAT Total', 'Bwd IAT Mean',\n",
       "       'Bwd IAT Std', 'Bwd IAT Max', 'Bwd IAT Min', 'Fwd PSH Flags',\n",
       "       'Bwd PSH Flags', 'Fwd URG Flags', 'Bwd URG Flags', 'Fwd RST Flags',\n",
       "       'Bwd RST Flags', 'Fwd Header Length', 'Bwd Header Length',\n",
       "       'Fwd Packets/s', 'Bwd Packets/s', 'Packet Length Min',\n",
       "       'Packet Length Max', 'Packet Length Mean', 'Packet Length Std',\n",
       "       'Packet Length Variance', 'FIN Flag Count', 'SYN Flag Count',\n",
       "       'RST Flag Count', 'PSH Flag Count', 'ACK Flag Count', 'URG Flag Count',\n",
       "       'CWR Flag Count', 'ECE Flag Count', 'Down/Up Ratio',\n",
       "       'Average Packet Size', 'Fwd Segment Size Avg', 'Bwd Segment Size Avg',\n",
       "       'Fwd Bytes/Bulk Avg', 'Fwd Packet/Bulk Avg', 'Fwd Bulk Rate Avg',\n",
       "       'Bwd Bytes/Bulk Avg', 'Bwd Packet/Bulk Avg', 'Bwd Bulk Rate Avg',\n",
       "       'Subflow Fwd Packets', 'Subflow Fwd Bytes', 'Subflow Bwd Packets',\n",
       "       'Subflow Bwd Bytes', 'FWD Init Win Bytes', 'Bwd Init Win Bytes',\n",
       "       'Fwd Act Data Pkts', 'Fwd Seg Size Min', 'Active Mean', 'Active Std',\n",
       "       'Active Max', 'Active Min', 'Idle Mean', 'Idle Std', 'Idle Max',\n",
       "       'Idle Min', 'Label'],\n",
       "      dtype='object')"
      ]
     },
     "execution_count": 11,
     "metadata": {},
     "output_type": "execute_result"
    }
   ],
   "source": [
    "colonnes_a_conserver = [\n",
    "    'Protocol', 'Flow Duration', 'Total Fwd Packet', 'Total Bwd packets',\n",
    "    'Total Length of Fwd Packet', 'Total Length of Bwd Packet',\n",
    "    'Fwd Packet Length Max', 'Fwd Packet Length Min', 'Fwd Packet Length Mean',\n",
    "    'Fwd Packet Length Std', 'Bwd Packet Length Max', 'Bwd Packet Length Min',\n",
    "    'Bwd Packet Length Mean', 'Bwd Packet Length Std', 'Flow Bytes/s',\n",
    "    'Flow Packets/s', 'Flow IAT Mean', 'Flow IAT Std', 'Flow IAT Max',\n",
    "    'Flow IAT Min', 'Fwd IAT Total', 'Fwd IAT Mean', 'Fwd IAT Std',\n",
    "    'Fwd IAT Max', 'Fwd IAT Min', 'Bwd IAT Total', 'Bwd IAT Mean',\n",
    "    'Bwd IAT Std', 'Bwd IAT Max', 'Bwd IAT Min', 'Fwd PSH Flags',\n",
    "    'Bwd PSH Flags', 'Fwd URG Flags', 'Bwd URG Flags', 'Fwd RST Flags',\n",
    "    'Bwd RST Flags', 'Fwd Header Length', 'Bwd Header Length', 'Fwd Packets/s',\n",
    "    'Bwd Packets/s', 'Packet Length Min', 'Packet Length Max',\n",
    "    'Packet Length Mean', 'Packet Length Std', 'Packet Length Variance',\n",
    "    'FIN Flag Count', 'SYN Flag Count', 'RST Flag Count', 'PSH Flag Count',\n",
    "    'ACK Flag Count', 'URG Flag Count', 'CWR Flag Count', 'ECE Flag Count',\n",
    "    'Down/Up Ratio', 'Average Packet Size', 'Fwd Segment Size Avg',\n",
    "    'Bwd Segment Size Avg', 'Fwd Bytes/Bulk Avg', 'Fwd Packet/Bulk Avg',\n",
    "    'Fwd Bulk Rate Avg', 'Bwd Bytes/Bulk Avg', 'Bwd Packet/Bulk Avg',\n",
    "    'Bwd Bulk Rate Avg', 'Subflow Fwd Packets', 'Subflow Fwd Bytes',\n",
    "    'Subflow Bwd Packets', 'Subflow Bwd Bytes', 'FWD Init Win Bytes',\n",
    "    'Bwd Init Win Bytes', 'Fwd Act Data Pkts', 'Fwd Seg Size Min',\n",
    "    'Active Mean', 'Active Std', 'Active Max', 'Active Min', 'Idle Mean',\n",
    "    'Idle Std', 'Idle Max', 'Idle Min', 'Label'\n",
    "]\n",
    "\n",
    "# Filtrer le DataFrame pour ne conserver que les colonnes désirées\n",
    "improved_df = improved_df[colonnes_a_conserver]\n",
    "improved_df.columns"
   ]
  },
  {
   "cell_type": "code",
   "execution_count": 12,
   "id": "01bd4f87",
   "metadata": {
    "execution": {
     "iopub.execute_input": "2024-01-23T13:11:23.253066Z",
     "iopub.status.busy": "2024-01-23T13:11:23.251990Z",
     "iopub.status.idle": "2024-01-23T13:11:38.421407Z",
     "shell.execute_reply": "2024-01-23T13:11:38.420125Z"
    },
    "papermill": {
     "duration": 15.180874,
     "end_time": "2024-01-23T13:11:38.424262",
     "exception": false,
     "start_time": "2024-01-23T13:11:23.243388",
     "status": "completed"
    },
    "tags": []
   },
   "outputs": [],
   "source": [
    "import numpy as np\n",
    "import pandas as pd\n",
    "from sklearn.model_selection import train_test_split\n",
    "from sklearn.preprocessing import StandardScaler\n",
    "from tensorflow.keras.models import Sequential\n",
    "from sklearn.preprocessing import StandardScaler, OneHotEncoder\n",
    "\n",
    "from tensorflow.keras.layers import LSTM, Dense, Dropout"
   ]
  },
  {
   "cell_type": "code",
   "execution_count": 13,
   "id": "b9a59f5f",
   "metadata": {
    "execution": {
     "iopub.execute_input": "2024-01-23T13:11:38.440999Z",
     "iopub.status.busy": "2024-01-23T13:11:38.440115Z",
     "iopub.status.idle": "2024-01-23T13:11:47.925926Z",
     "shell.execute_reply": "2024-01-23T13:11:47.924221Z"
    },
    "papermill": {
     "duration": 9.496883,
     "end_time": "2024-01-23T13:11:47.928512",
     "exception": false,
     "start_time": "2024-01-23T13:11:38.431629",
     "status": "completed"
    },
    "tags": []
   },
   "outputs": [
    {
     "name": "stderr",
     "output_type": "stream",
     "text": [
      "/opt/conda/lib/python3.10/site-packages/sklearn/preprocessing/_encoders.py:868: FutureWarning: `sparse` was renamed to `sparse_output` in version 1.2 and will be removed in 1.4. `sparse_output` is ignored unless you leave `sparse` to its default value.\n",
      "  warnings.warn(\n"
     ]
    },
    {
     "name": "stdout",
     "output_type": "stream",
     "text": [
      "Forme des caractéristiques: (2099971, 79)\n",
      "Forme des labels: (2099971,)\n"
     ]
    }
   ],
   "source": [
    "\n",
    "features = improved_df.drop('Label', axis=1)\n",
    "labels = improved_df['Label']\n",
    "\n",
    "# Normalisation des caractéristiques\n",
    "scaler = StandardScaler()\n",
    "features = scaler.fit_transform(features)\n",
    "\n",
    "encoder = OneHotEncoder(sparse=False)\n",
    "labels_encoded = encoder.fit_transform(labels.values.reshape(-1, 1))\n",
    "\n",
    "# Division des données\n",
    "X_train, X_test, y_train, y_test = train_test_split(features, labels_encoded, test_size=0.2, random_state=42)\n",
    "\n",
    "print(\"Forme des caractéristiques:\", features.shape)\n",
    "print(\"Forme des labels:\", labels.shape)"
   ]
  },
  {
   "cell_type": "code",
   "execution_count": 14,
   "id": "bc1885a4",
   "metadata": {
    "execution": {
     "iopub.execute_input": "2024-01-23T13:11:47.945916Z",
     "iopub.status.busy": "2024-01-23T13:11:47.944544Z",
     "iopub.status.idle": "2024-01-23T13:56:44.942040Z",
     "shell.execute_reply": "2024-01-23T13:56:44.940701Z"
    },
    "papermill": {
     "duration": 2697.009454,
     "end_time": "2024-01-23T13:56:44.945426",
     "exception": false,
     "start_time": "2024-01-23T13:11:47.935972",
     "status": "completed"
    },
    "tags": []
   },
   "outputs": [
    {
     "name": "stdout",
     "output_type": "stream",
     "text": [
      "Epoch 1/6\n",
      "52500/52500 [==============================] - 443s 8ms/step - loss: 0.0061 - accuracy: 0.9881\n",
      "Epoch 2/6\n",
      "52500/52500 [==============================] - 437s 8ms/step - loss: 0.0086 - accuracy: 0.9881\n",
      "Epoch 3/6\n",
      "52500/52500 [==============================] - 427s 8ms/step - loss: 0.0177 - accuracy: 0.9849\n",
      "Epoch 4/6\n",
      "52500/52500 [==============================] - 432s 8ms/step - loss: 0.0178 - accuracy: 0.9836\n",
      "Epoch 5/6\n",
      "52500/52500 [==============================] - 433s 8ms/step - loss: 0.0190 - accuracy: 0.9838\n",
      "Epoch 6/6\n",
      "52500/52500 [==============================] - 432s 8ms/step - loss: 0.0159 - accuracy: 0.9832\n",
      "13125/13125 [==============================] - 41s 3ms/step - loss: 0.0124 - accuracy: 0.9849\n",
      "Loss: 0.012421623803675175, Accuracy: 0.9848545789718628\n",
      "13125/13125 [==============================] - 39s 3ms/step\n"
     ]
    }
   ],
   "source": [
    "\n",
    "\n",
    "# Normalisation des caractéristiques\n",
    "scaler = StandardScaler()\n",
    "X_train_scaled = scaler.fit_transform(X_train)\n",
    "X_test_scaled = scaler.transform(X_test)\n",
    "\n",
    "# Nombre de classes\n",
    "n_classes = y_train.shape[1]\n",
    "model = Sequential([\n",
    "    Dense(512, activation='relu', input_shape=(X_train_scaled.shape[1],)),\n",
    "    Dropout(0.2),\n",
    "    Dense(258, activation='relu'),\n",
    "    Dropout(0.2),\n",
    "    Dense(512, activation='relu'),\n",
    "    Dropout(0.2),\n",
    "    Dense(258, activation='relu'),\n",
    "    Dropout(0.2),\n",
    "    Dense(64, activation='relu'),\n",
    "    Dropout(0.2),\n",
    "    Dense(64, activation='relu'),\n",
    "    Dropout(0.2),\n",
    "    # Ajouter d'autres couches Dense si nécessaire\n",
    "    Dense(n_classes, activation='sigmoid')  # ou 'softmax' pour la classification multiclasse\n",
    "])\n",
    "\n",
    "model.compile(optimizer='adam',\n",
    "              loss='binary_crossentropy',  # Utilisez 'categorical_crossentropy' pour une classification multiclasse\n",
    "              metrics=['accuracy'])\n",
    "\n",
    "model.fit(X_train, y_train, epochs=6, batch_size=32)\n",
    "\n",
    "# Évaluation et prédiction\n",
    "loss, accuracy = model.evaluate(X_test, y_test)\n",
    "print(f\"Loss: {loss}, Accuracy: {accuracy}\")\n",
    "\n",
    "# Prédiction\n",
    "predictions = model.predict(X_test)\n"
   ]
  },
  {
   "cell_type": "code",
   "execution_count": 15,
   "id": "e1b813c0",
   "metadata": {
    "execution": {
     "iopub.execute_input": "2024-01-23T13:56:52.116957Z",
     "iopub.status.busy": "2024-01-23T13:56:52.116003Z",
     "iopub.status.idle": "2024-01-23T13:56:52.123029Z",
     "shell.execute_reply": "2024-01-23T13:56:52.121952Z"
    },
    "papermill": {
     "duration": 3.671926,
     "end_time": "2024-01-23T13:56:52.125255",
     "exception": false,
     "start_time": "2024-01-23T13:56:48.453329",
     "status": "completed"
    },
    "tags": []
   },
   "outputs": [
    {
     "data": {
      "text/plain": [
       "\"import matplotlib.pyplot as plt\\n\\nplt.plot(history.history['accuracy'])\\nplt.plot(history.history['val_accuracy'])\\nplt.title('Précision du modèle')\\nplt.ylabel('Précision')\\nplt.xlabel('Époque')\\nplt.legend(['Entraînement', 'Validation'], loc='upper left')\\nplt.show()\\n\\nplt.plot(history.history['loss'])\\nplt.plot(history.history['val_loss'])\\nplt.title('Perte du modèle')\\nplt.ylabel('Perte')\\nplt.xlabel('Époque')\\nplt.legend(['Entraînement', 'Validation'], loc='upper left')\\nplt.show()\""
      ]
     },
     "execution_count": 15,
     "metadata": {},
     "output_type": "execute_result"
    }
   ],
   "source": [
    "\"\"\"import matplotlib.pyplot as plt\n",
    "\n",
    "plt.plot(history.history['accuracy'])\n",
    "plt.plot(history.history['val_accuracy'])\n",
    "plt.title('Précision du modèle')\n",
    "plt.ylabel('Précision')\n",
    "plt.xlabel('Époque')\n",
    "plt.legend(['Entraînement', 'Validation'], loc='upper left')\n",
    "plt.show()\n",
    "\n",
    "plt.plot(history.history['loss'])\n",
    "plt.plot(history.history['val_loss'])\n",
    "plt.title('Perte du modèle')\n",
    "plt.ylabel('Perte')\n",
    "plt.xlabel('Époque')\n",
    "plt.legend(['Entraînement', 'Validation'], loc='upper left')\n",
    "plt.show()\"\"\""
   ]
  },
  {
   "cell_type": "code",
   "execution_count": 16,
   "id": "5b6545ed",
   "metadata": {
    "execution": {
     "iopub.execute_input": "2024-01-23T13:56:59.146315Z",
     "iopub.status.busy": "2024-01-23T13:56:59.145863Z",
     "iopub.status.idle": "2024-01-23T13:56:59.153237Z",
     "shell.execute_reply": "2024-01-23T13:56:59.152078Z"
    },
    "papermill": {
     "duration": 3.513547,
     "end_time": "2024-01-23T13:56:59.155506",
     "exception": false,
     "start_time": "2024-01-23T13:56:55.641959",
     "status": "completed"
    },
    "tags": []
   },
   "outputs": [
    {
     "data": {
      "text/plain": [
       "\"from tensorflow.keras.utils import plot_model\\n\\nplot_model(model, to_file='model_architecture.png', show_shapes=True, show_layer_names=True)\""
      ]
     },
     "execution_count": 16,
     "metadata": {},
     "output_type": "execute_result"
    }
   ],
   "source": [
    "\"\"\"from tensorflow.keras.utils import plot_model\n",
    "\n",
    "plot_model(model, to_file='model_architecture.png', show_shapes=True, show_layer_names=True)\"\"\""
   ]
  },
  {
   "cell_type": "code",
   "execution_count": 17,
   "id": "3b9a5e27",
   "metadata": {
    "execution": {
     "iopub.execute_input": "2024-01-23T13:57:06.376960Z",
     "iopub.status.busy": "2024-01-23T13:57:06.376091Z",
     "iopub.status.idle": "2024-01-23T13:57:06.568349Z",
     "shell.execute_reply": "2024-01-23T13:57:06.566815Z"
    },
    "papermill": {
     "duration": 3.73826,
     "end_time": "2024-01-23T13:57:06.570957",
     "exception": false,
     "start_time": "2024-01-23T13:57:02.832697",
     "status": "completed"
    },
    "tags": []
   },
   "outputs": [
    {
     "name": "stdout",
     "output_type": "stream",
     "text": [
      "None\n"
     ]
    }
   ],
   "source": [
    "model.save('model.keras')\n",
    "print(model.save('model.keras'))"
   ]
  },
  {
   "cell_type": "code",
   "execution_count": null,
   "id": "4be26a96",
   "metadata": {
    "papermill": {
     "duration": 3.650854,
     "end_time": "2024-01-23T13:57:13.715148",
     "exception": false,
     "start_time": "2024-01-23T13:57:10.064294",
     "status": "completed"
    },
    "tags": []
   },
   "outputs": [],
   "source": []
  }
 ],
 "metadata": {
  "kaggle": {
   "accelerator": "none",
   "dataSources": [
    {
     "datasetId": 464228,
     "sourceId": 872432,
     "sourceType": "datasetVersion"
    },
    {
     "datasetId": 3629354,
     "sourceId": 6308217,
     "sourceType": "datasetVersion"
    }
   ],
   "dockerImageVersionId": 30635,
   "isGpuEnabled": false,
   "isInternetEnabled": true,
   "language": "python",
   "sourceType": "notebook"
  },
  "kernelspec": {
   "display_name": "Python 3",
   "language": "python",
   "name": "python3"
  },
  "language_info": {
   "codemirror_mode": {
    "name": "ipython",
    "version": 3
   },
   "file_extension": ".py",
   "mimetype": "text/x-python",
   "name": "python",
   "nbconvert_exporter": "python",
   "pygments_lexer": "ipython3",
   "version": "3.10.12"
  },
  "papermill": {
   "default_parameters": {},
   "duration": 2937.60308,
   "end_time": "2024-01-23T13:57:20.135275",
   "environment_variables": {},
   "exception": null,
   "input_path": "__notebook__.ipynb",
   "output_path": "__notebook__.ipynb",
   "parameters": {},
   "start_time": "2024-01-23T13:08:22.532195",
   "version": "2.4.0"
  }
 },
 "nbformat": 4,
 "nbformat_minor": 5
}
